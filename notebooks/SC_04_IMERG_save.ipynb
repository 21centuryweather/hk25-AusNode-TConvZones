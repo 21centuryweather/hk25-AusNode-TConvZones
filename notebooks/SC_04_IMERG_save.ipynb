{
 "cells": [
  {
   "cell_type": "markdown",
   "id": "2a7e06ed",
   "metadata": {},
   "source": [
    "## save the healpix data\n"
   ]
  },
  {
   "cell_type": "code",
   "execution_count": 1,
   "id": "2f0b6c24",
   "metadata": {},
   "outputs": [],
   "source": [
    "import intake\n",
    "\n",
    "cat = intake.open_catalog(\"https://digital-earths-global-hackathon.github.io/catalog/catalog.yaml\")[\"online\"]"
   ]
  },
  {
   "cell_type": "code",
   "execution_count": null,
   "id": "d2748cb6",
   "metadata": {},
   "outputs": [],
   "source": [
    "from easygems import healpix as egh\n",
    "import healpy as hp\n",
    "import xarray as xr\n",
    "import matplotlib.pyplot as plt\n",
    "import warnings\n",
    "import pandas as pd\n",
    "import numpy as np\n",
    "import sys\n",
    "from dask.diagnostics import ProgressBar\n",
    "\n",
    "sys.path.append('/scratch/nf33/sc5932/hk25-AusNode-TConvZones/functions')\n",
    "from SC_function import get_nn_lon_lat_index\n",
    "\n",
    "warnings.filterwarnings(\"ignore\", category=FutureWarning) # don't warn us about future package conflicts"
   ]
  },
  {
   "cell_type": "code",
   "execution_count": 3,
   "id": "24cdebec",
   "metadata": {},
   "outputs": [
    {
     "data": {
      "text/html": [
       "<div>\n",
       "<style scoped>\n",
       "    .dataframe tbody tr th:only-of-type {\n",
       "        vertical-align: middle;\n",
       "    }\n",
       "\n",
       "    .dataframe tbody tr th {\n",
       "        vertical-align: top;\n",
       "    }\n",
       "\n",
       "    .dataframe thead th {\n",
       "        text-align: right;\n",
       "    }\n",
       "</style>\n",
       "<table border=\"1\" class=\"dataframe\">\n",
       "  <thead>\n",
       "    <tr style=\"text-align: right;\">\n",
       "      <th></th>\n",
       "      <th>name</th>\n",
       "      <th>description</th>\n",
       "      <th>type</th>\n",
       "      <th>allowed</th>\n",
       "      <th>default</th>\n",
       "    </tr>\n",
       "  </thead>\n",
       "  <tbody>\n",
       "    <tr>\n",
       "      <th>0</th>\n",
       "      <td>zoom</td>\n",
       "      <td>zoom resolution of the dataset</td>\n",
       "      <td>int</td>\n",
       "      <td>[9]</td>\n",
       "      <td>9</td>\n",
       "    </tr>\n",
       "  </tbody>\n",
       "</table>\n",
       "</div>"
      ],
      "text/plain": [
       "   name                     description type allowed  default\n",
       "0  zoom  zoom resolution of the dataset  int     [9]        9"
      ]
     },
     "execution_count": 3,
     "metadata": {},
     "output_type": "execute_result"
    }
   ],
   "source": [
    "pd.DataFrame(cat[\"IR_IMERG\"].describe()[\"user_parameters\"])"
   ]
  },
  {
   "cell_type": "code",
   "execution_count": 3,
   "id": "632a86a8",
   "metadata": {},
   "outputs": [],
   "source": [
    "data_imerg = cat[\"IR_IMERG\"].to_dask()\n",
    "time_start = \"2020-03-01\"\n",
    "time_end = \"2021-02-28\"\n",
    "ds_imerg = data_imerg .precipitation.sel(time=slice(time_start , time_end)).resample(time=\"1D\").sum()\n"
   ]
  },
  {
   "cell_type": "markdown",
   "id": "cb69e4c0",
   "metadata": {},
   "source": [
    "## mean"
   ]
  },
  {
   "cell_type": "code",
   "execution_count": null,
   "id": "d92c24a6",
   "metadata": {},
   "outputs": [],
   "source": [
    "mean_imerg = (ds_imerg/2).mean(dim=\"time\") \n",
    "\n",
    "\n",
    "with ProgressBar():\n",
    "    mean_imerg_loaded = mean_imerg.load()\n",
    "# season_imerg_loaded.to_netcdf('/scratch/nf33/sc5932/Data/season_imerg.nc')\n",
    "\n",
    "mean_imerg_loaded.to_netcdf('/scratch/nf33/sc5932/Data/mean_imerg.nc')\n",
    "\n"
   ]
  },
  {
   "cell_type": "markdown",
   "id": "54248410",
   "metadata": {},
   "source": [
    "## seasonal"
   ]
  },
  {
   "cell_type": "code",
   "execution_count": null,
   "id": "36f10978",
   "metadata": {},
   "outputs": [],
   "source": [
    "season_imerg = (ds_imerg/2).groupby(\"time.season\").mean(dim=\"time\")\n"
   ]
  },
  {
   "cell_type": "code",
   "execution_count": 5,
   "id": "dc97e5f8",
   "metadata": {},
   "outputs": [
    {
     "name": "stdout",
     "output_type": "stream",
     "text": [
      "[########################################] | 100% Completed | 101.14 s\n"
     ]
    }
   ],
   "source": [
    "\n",
    "from dask.diagnostics import ProgressBar\n",
    "\n",
    "with ProgressBar():\n",
    "    season_imerg_SON_loaded = season_imerg[3].load()\n",
    "# season_imerg_loaded.to_netcdf('/scratch/nf33/sc5932/Data/season_imerg.nc')\n",
    "\n",
    "season_imerg_SON_loaded.to_netcdf('/scratch/nf33/sc5932/Data/season_imerg_SON.nc')\n",
    "\n"
   ]
  },
  {
   "cell_type": "code",
   "execution_count": null,
   "id": "20341f00",
   "metadata": {},
   "outputs": [],
   "source": []
  },
  {
   "cell_type": "code",
   "execution_count": null,
   "id": "a700c1b9",
   "metadata": {},
   "outputs": [],
   "source": []
  }
 ],
 "metadata": {
  "kernelspec": {
   "display_name": "Python 3",
   "language": "python",
   "name": "python3"
  },
  "language_info": {
   "codemirror_mode": {
    "name": "ipython",
    "version": 3
   },
   "file_extension": ".py",
   "mimetype": "text/x-python",
   "name": "python",
   "nbconvert_exporter": "python",
   "pygments_lexer": "ipython3",
   "version": "3.12.10"
  }
 },
 "nbformat": 4,
 "nbformat_minor": 5
}
