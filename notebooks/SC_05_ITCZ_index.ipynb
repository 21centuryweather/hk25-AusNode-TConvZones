{
 "cells": [
  {
   "cell_type": "code",
   "execution_count": 32,
   "id": "98955f6d",
   "metadata": {},
   "outputs": [],
   "source": [
    "\n",
    "import xarray as xr\n",
    "\n",
    "import matplotlib.pyplot as plt\n",
    "import numpy as np\n",
    "import cartopy.crs as ccrs\n"
   ]
  },
  {
   "cell_type": "markdown",
   "id": "9747465d",
   "metadata": {},
   "source": [
    "## annual mean"
   ]
  },
  {
   "cell_type": "code",
   "execution_count": 33,
   "id": "2ca84721",
   "metadata": {},
   "outputs": [],
   "source": [
    "mean_era5_loaded = xr.open_dataset('/scratch/nf33/sc5932/Data/regridded/mean_era5.nc').tp\n",
    "mean_uk_aligned = xr.open_dataset('/scratch/nf33/sc5932/Data/regridded//mean_uk_aligned.nc').pr\n",
    "mean_germany_aligned = xr.open_dataset('/scratch/nf33/sc5932//Data/regridded/mean_germany_aligned.nc').pr\n",
    "mean_imerg = xr.open_dataset('/scratch/nf33/sc5932/Data/regridded/mean_imerg_aligned.nc').precipitation\n",
    "mean_access = xr.open_dataset('/scratch/nf33/sc5932/Data/regridded/mean_access_amip_aligned.nc').pr\n",
    "data_all = [mean_era5_loaded , mean_imerg , mean_access , mean_uk_aligned , mean_germany_aligned]\n",
    "\n"
   ]
  },
  {
   "cell_type": "markdown",
   "id": "e7de40fd",
   "metadata": {},
   "source": [
    "### index 1\n"
   ]
  },
  {
   "cell_type": "code",
   "execution_count": null,
   "id": "d9e4f181",
   "metadata": {},
   "outputs": [],
   "source": [
    "%run /scratch/nf33/sc5932/hk25-AusNode-TConvZones/functions/SC_function.ipynb\n",
    "\n",
    "lat_bounds = [slice(15,5) , slice(-5,-15) , slice(5,-5)]\n",
    "lon_bounds = [slice(160, 180), slice(-180, -120)]\n",
    "\n",
    "annual_mean_index = doubel_itcz_index(lat_bounds , lon_bounds , data_all)\n",
    "\n",
    "all_index , area_mean_Pn, area_mean_Ps, area_mean_Pe = annual_mean_index"
   ]
  },
  {
   "cell_type": "markdown",
   "id": "aa943d71",
   "metadata": {},
   "source": [
    "### index 2"
   ]
  },
  {
   "cell_type": "code",
   "execution_count": null,
   "id": "093b7b7b",
   "metadata": {},
   "outputs": [],
   "source": [
    "%run /scratch/nf33/sc5932/hk25-AusNode-TConvZones/functions/SC_function.ipynb\n",
    "\n",
    "lat_bounds = [slice(20,0) , slice(0,-20) , slice(20,-20)]\n",
    "lon_bounds =  slice(-150, -90)\n",
    "\n",
    "annual_mean_index = doubel_itcz_index_2025_GRL(lat_bounds , lon_bounds , data_all)\n",
    "\n",
    "all_index , area_mean_Pn, area_mean_Ps, area_mean_Pe = annual_mean_index"
   ]
  },
  {
   "cell_type": "code",
   "execution_count": 35,
   "id": "332b3f61",
   "metadata": {},
   "outputs": [
    {
     "data": {
      "text/plain": [
       "[np.float64(1.260836159771761),\n",
       " np.float32(1.521634),\n",
       " np.float64(0.8697840491295772),\n",
       " np.float32(1.1658889),\n",
       " np.float32(1.2247041)]"
      ]
     },
     "execution_count": 35,
     "metadata": {},
     "output_type": "execute_result"
    }
   ],
   "source": [
    "all_index"
   ]
  },
  {
   "cell_type": "markdown",
   "id": "b4ab62ec",
   "metadata": {},
   "source": [
    "## seasonal"
   ]
  },
  {
   "cell_type": "code",
   "execution_count": 2,
   "id": "4241e0f8",
   "metadata": {},
   "outputs": [],
   "source": [
    "mean_era5_loaded = xr.open_dataset('/scratch/nf33/sc5932/Data/regridded/seasonal_era5.nc').tp\n",
    "mean_uk_aligned = xr.open_dataset('/scratch/nf33/sc5932/Data/regridded/seasonal_uk_aligned.nc').pr\n",
    "mean_germany_aligned = xr.open_dataset('/scratch/nf33/sc5932//Data/regridded/seasonal_germany_aligned.nc').pr\n",
    "mean_imerg = xr.open_dataset('/scratch/nf33/sc5932/Data/regridded/seasonal_imerg_aligned.nc').precipitation\n",
    "mean_access = xr.open_dataset('/scratch/nf33/sc5932/Data/regridded/seasonal_access_amip_aligned.nc').pr.rename({'lat': 'latitude', 'lon': 'longitude'})\n"
   ]
  },
  {
   "cell_type": "code",
   "execution_count": 5,
   "id": "40110801",
   "metadata": {},
   "outputs": [],
   "source": [
    "lat_bounds = [slice(20,0) , slice(0,-20) , slice(20,-20)]\n",
    "lon_bounds =  slice(-150, -90)\n",
    "\n",
    "%run /scratch/nf33/sc5932/hk25-AusNode-TConvZones/functions/SC_function.ipynb\n"
   ]
  },
  {
   "cell_type": "code",
   "execution_count": 6,
   "id": "9c5cfc31",
   "metadata": {},
   "outputs": [],
   "source": [
    "\n",
    "all_season_index = []\n",
    "# all_season_index_p =[]\n",
    "all_season_Pn = []\n",
    "all_season_Ps = []\n",
    "all_season_Pe = []\n",
    "for mon in range(4):\n",
    "    mon_name = ['DJF', 'JJA', 'MAM', 'SON']\n",
    "    data_all = [mean_era5_loaded.sel(season = mon_name[mon]), \n",
    "                mean_imerg.sel(season = mon_name[mon]) ,\n",
    "                mean_access.sel(season = mon_name[mon]) , \n",
    "                mean_uk_aligned.sel(season = mon_name[mon]) , \n",
    "                mean_germany_aligned.sel(season = mon_name[mon])\n",
    "                ]\n",
    "    annual_mean_index = doubel_itcz_index_2025_GRL(lat_bounds , lon_bounds , data_all)\n",
    "\n",
    "    all_index ,  area_mean_Pn, area_mean_Ps, area_mean_Pe = doubel_itcz_index_2025_GRL(lat_bounds , lon_bounds , data_all)\n",
    "    all_season_index.append(np.array(all_index ))\n",
    "    all_season_Pn.append(np.array(area_mean_Pn ))\n",
    "    all_season_Ps.append(np.array(area_mean_Ps ))\n",
    "    all_season_Pe.append(np.array(area_mean_Pe ))\n",
    "    "
   ]
  },
  {
   "cell_type": "code",
   "execution_count": null,
   "id": "a6daf271",
   "metadata": {},
   "outputs": [],
   "source": [
    "\n",
    "#'DJF', 'JJA', 'MAM', 'SON'"
   ]
  },
  {
   "cell_type": "code",
   "execution_count": 36,
   "id": "e756c4d4",
   "metadata": {},
   "outputs": [
    {
     "data": {
      "text/plain": [
       "(array([1.26083616, 1.52163398, 0.86978405, 1.16588891, 1.22470415]),\n",
       " array([[1.21357645, 1.46753168, 0.68567813, 1.08009565, 1.08773398],\n",
       "        [1.41490109, 1.64691257, 1.2280089 , 1.44736528, 1.33573759],\n",
       "        [0.9166625 , 1.2605921 , 0.326039  , 0.57720965, 1.0426091 ],\n",
       "        [1.43971805, 1.67540467, 1.12257246, 1.52371597, 1.40316617]]))"
      ]
     },
     "execution_count": 36,
     "metadata": {},
     "output_type": "execute_result"
    }
   ],
   "source": [
    "a = np.array(all_index)\n",
    "b = np.array(all_season_index) # 0 era5 , 1 imerg, 2 access, 3 um, 4 icon \n",
    "\n",
    "a, b"
   ]
  },
  {
   "cell_type": "code",
   "execution_count": 37,
   "id": "23103c23",
   "metadata": {},
   "outputs": [
    {
     "data": {
      "text/plain": [
       "array([[1.26083616, 1.52163398, 0.86978405, 1.16588891, 1.22470415],\n",
       "       [1.21357645, 1.46753168, 0.68567813, 1.08009565, 1.08773398],\n",
       "       [1.41490109, 1.64691257, 1.2280089 , 1.44736528, 1.33573759],\n",
       "       [0.9166625 , 1.2605921 , 0.326039  , 0.57720965, 1.0426091 ],\n",
       "       [1.43971805, 1.67540467, 1.12257246, 1.52371597, 1.40316617]])"
      ]
     },
     "execution_count": 37,
     "metadata": {},
     "output_type": "execute_result"
    }
   ],
   "source": [
    "c = np.concatenate((a.reshape(1, -1), b), axis=0)\n",
    "\n",
    "c"
   ]
  },
  {
   "cell_type": "code",
   "execution_count": 38,
   "id": "b1466d78",
   "metadata": {},
   "outputs": [
    {
     "data": {
      "image/png": "[encoded data removed]",
      "text/plain": [
       "<Figure size 1000x600 with 1 Axes>"
      ]
     },
     "metadata": {},
     "output_type": "display_data"
    }
   ],
   "source": [
    "import numpy as np\n",
    "import matplotlib.pyplot as plt\n",
    "\n",
    "# Assuming c is a (5, 5) array: seasons x models\n",
    "model_names = ['ERA5', 'IMERG', 'ACCESS', 'UM', 'ICON']\n",
    "season_names = ['Annual', 'DJF','JJA','MAM', 'SON']\n",
    "\n",
    "x = np.arange(len(season_names))\n",
    "bar_width = 0.15\n",
    "\n",
    "plt.figure(figsize=(10, 6))\n",
    "\n",
    "# Plot each model's data\n",
    "for i in range(len(model_names)):\n",
    "    plt.bar(x + i * bar_width, c[:, i], width=bar_width, label=model_names[i])\n",
    "\n",
    "# Formatting\n",
    "plt.xticks(x + bar_width * 2, season_names, fontsize=12)\n",
    "plt.yticks(fontsize=12)\n",
    "plt.xlabel('Precipitaiton', fontsize=14)\n",
    "plt.ylabel('Double ITCZ index', fontsize=14)\n",
    "# plt.title('Seasonal Mean by Model', fontsize=16)\n",
    "plt.ylim(0, 2)\n",
    "plt.grid(axis='y', linestyle='--', alpha=0.7)\n",
    "plt.legend(title='Model', fontsize=11, title_fontsize=12, ncol=5, loc='upper center')\n",
    "plt.tight_layout()\n",
    "\n",
    "name_save = \"/scratch/nf33/sc5932/Fig/Doubel ITCZ Index.png\"\n",
    "plt.savefig(name_save , dpi=300, bbox_inches='tight')"
   ]
  },
  {
   "cell_type": "code",
   "execution_count": null,
   "id": "9ccf7bd5",
   "metadata": {},
   "outputs": [],
   "source": []
  },
  {
   "cell_type": "code",
   "execution_count": 152,
   "id": "ea648f01",
   "metadata": {},
   "outputs": [
    {
     "data": {
      "text/plain": [
       "array(4.64177286)"
      ]
     },
     "execution_count": 152,
     "metadata": {},
     "output_type": "execute_result"
    }
   ],
   "source": [
    "season_n = 2 # 0 'DJF', 1 'JJA', 2 'MAM', 3 'SON'\n",
    "parameter_n =4   # 0 all_index , 1 all_index_p, 2 area_mean_Pn, 3 area_mean_Ps, 4 area_mean_Pe\n",
    "model_n = 0 # 0 era5 , 1 imerg, 2 access, 3 um, 4 icon \n",
    "\n",
    "all_season_index[season_n][parameter_n][model_n]"
   ]
  },
  {
   "cell_type": "code",
   "execution_count": 138,
   "id": "abefba02",
   "metadata": {},
   "outputs": [
    {
     "data": {
      "text/plain": [
       "array([[3.81749433, 3.78581643, 4.19535117, 4.30300331, 3.13293767],\n",
       "       [0.29286565, 0.35397804, 0.32062085, 0.32007164, 0.31205326],\n",
       "       [5.6032999 , 4.27315998, 6.42154824, 5.5129261 , 3.9599781 ],\n",
       "       [5.63167474, 5.38075733, 5.09874271, 6.318326  , 4.82181501],\n",
       "       [1.79999299, 1.04114223, 1.5647943 , 1.61262298, 1.25795913]])"
      ]
     },
     "execution_count": 138,
     "metadata": {},
     "output_type": "execute_result"
    }
   ],
   "source": [
    "np.array(all_season_index [0])  #['DJF', 'JJA', 'MAM', 'SON']"
   ]
  },
  {
   "cell_type": "code",
   "execution_count": 139,
   "id": "8332ad23",
   "metadata": {},
   "outputs": [
    {
     "data": {
      "text/plain": [
       "array([[4.50856107, 3.68215084, 2.39279042, 5.14156628, 2.86541486],\n",
       "       [0.31024211, 0.33564407, 0.17400437, 0.34916553, 0.2475418 ],\n",
       "       [8.35662509, 5.97330809, 5.36437475, 7.33569145, 6.0507946 ],\n",
       "       [4.33734614, 3.79506111, 5.39836815, 5.90888453, 3.57646775],\n",
       "       [1.83842455, 1.202034  , 2.98858103, 1.48072171, 1.9482162 ]])"
      ]
     },
     "execution_count": 139,
     "metadata": {},
     "output_type": "execute_result"
    }
   ],
   "source": [
    "np.array(all_season_index[1] )"
   ]
  },
  {
   "cell_type": "code",
   "execution_count": 140,
   "id": "1e9eb000",
   "metadata": {},
   "outputs": [
    {
     "data": {
      "text/plain": [
       "array([[0.54860837, 0.47309971, 1.37299926, 2.80411768, 0.28488255],\n",
       "       [0.03651903, 0.03804274, 0.09350135, 0.17692316, 0.02450408],\n",
       "       [6.16092929, 5.14939356, 4.0319888 , 5.80166817, 4.08626413],\n",
       "       [4.21983316, 3.45667648, 6.67285847, 6.6339798 , 3.85427308],\n",
       "       [4.64177286, 3.82993507, 3.97942437, 3.4137063 , 3.68538618]])"
      ]
     },
     "execution_count": 140,
     "metadata": {},
     "output_type": "execute_result"
    }
   ],
   "source": [
    "pn = np.array(all_season_index[2] )\n",
    "pn"
   ]
  },
  {
   "cell_type": "code",
   "execution_count": 142,
   "id": "e953bbc6",
   "metadata": {},
   "outputs": [
    {
     "data": {
      "text/plain": [
       "array([[5.32205106, 4.32383442, 4.91768252, 5.39382172, 4.35604572],\n",
       "       [0.39074854, 0.41319019, 0.3716669 , 0.42001942, 0.39188594],\n",
       "       [8.71461379, 6.36596632, 7.21558557, 7.89932156, 6.55072641],\n",
       "       [3.91351572, 3.49293232, 4.88381907, 4.2577858 , 3.7637012 ],\n",
       "       [0.99201369, 0.6056146 , 1.13201979, 0.68473172, 0.80116802]])"
      ]
     },
     "execution_count": 142,
     "metadata": {},
     "output_type": "execute_result"
    }
   ],
   "source": [
    "ps = np.array(all_season_index[3] )\n",
    "ps"
   ]
  },
  {
   "cell_type": "code",
   "execution_count": null,
   "id": "3538c2ef",
   "metadata": {},
   "outputs": [],
   "source": []
  }
 ],
 "metadata": {
  "kernelspec": {
   "display_name": "Python 3",
   "language": "python",
   "name": "python3"
  },
  "language_info": {
   "codemirror_mode": {
    "name": "ipython",
    "version": 3
   },
   "file_extension": ".py",
   "mimetype": "text/x-python",
   "name": "python",
   "nbconvert_exporter": "python",
   "pygments_lexer": "ipython3",
   "version": "3.12.10"
  }
 },
 "nbformat": 4,
 "nbformat_minor": 5
}
